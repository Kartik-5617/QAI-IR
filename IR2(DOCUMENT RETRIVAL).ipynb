{
 "cells": [
  {
   "cell_type": "code",
   "execution_count": 1,
   "id": "d58c34fc-7596-41a1-a467-060232380560",
   "metadata": {},
   "outputs": [
    {
     "name": "stderr",
     "output_type": "stream",
     "text": [
      "[nltk_data] Downloading package punkt to /root/nltk_data...\n",
      "[nltk_data]   Package punkt is already up-to-date!\n"
     ]
    },
    {
     "data": {
      "text/plain": [
       "True"
      ]
     },
     "execution_count": 1,
     "metadata": {},
     "output_type": "execute_result"
    }
   ],
   "source": [
    "import nltk\n",
    "from nltk.tokenize import word_tokenize\n",
    "\n",
    "nltk.download('punkt')"
   ]
  },
  {
   "cell_type": "code",
   "execution_count": 3,
   "id": "b95dbf44-b0f6-4e23-b36e-138713dc0cce",
   "metadata": {},
   "outputs": [
    {
     "name": "stdout",
     "output_type": "stream",
     "text": [
      "Inverted Index Dictionary :\n",
      "{'the': ['Document 1', 'Document 2'], 'lazy': ['Document 1', 'Document 3'], 'quick': ['Document 1', 'Document 2'], 'jumps': ['Document 1', 'Document 3'], 'over': ['Document 1', 'Document 2', 'Document 3'], 'brown': ['Document 1'], 'dog': ['Document 1', 'Document 2'], 'fox': ['Document 1', 'Document 2', 'Document 3'], 'leaps': ['Document 2'], 'red': ['Document 2'], 'sleepy': ['Document 2'], 'clever': ['Document 3'], 'fast': ['Document 3'], 'hound': ['Document 3'], 'a': ['Document 3']}\n",
      "\n",
      "Formatted Output:\n",
      "the -> Document 1, Document 2\n",
      "lazy -> Document 1, Document 3\n",
      "quick -> Document 1, Document 2\n",
      "jumps -> Document 1, Document 3\n",
      "over -> Document 1, Document 2, Document 3\n",
      "brown -> Document 1\n",
      "dog -> Document 1, Document 2\n",
      "fox -> Document 1, Document 2, Document 3\n",
      "leaps -> Document 2\n",
      "red -> Document 2\n",
      "sleepy -> Document 2\n",
      "clever -> Document 3\n",
      "fast -> Document 3\n",
      "hound -> Document 3\n",
      "a -> Document 3\n"
     ]
    }
   ],
   "source": [
    "def create_inverted_index(documents):\n",
    "    inverted_index = {}\n",
    "    for doc_id, document in enumerate(documents):\n",
    "        doc_name = f\"Document {doc_id + 1}\"\n",
    "        words = word_tokenize(document.lower())  \n",
    "        unique_words = set(words)  \n",
    "        for word in unique_words:\n",
    "            if word.isalnum():  \n",
    "                if word not in inverted_index:\n",
    "                    inverted_index[word] = [doc_name]\n",
    "                else:\n",
    "                    inverted_index[word].append(doc_name)\n",
    "    return inverted_index\n",
    "\n",
    "def print_inverted_index(inverted_index):\n",
    "    print(\"Inverted Index Dictionary :\")\n",
    "    print(inverted_index)\n",
    "    print(\"\\nFormatted Output:\")\n",
    "    for word, doc_list in inverted_index.items():\n",
    "        print(f\"{word} -> {', '.join(doc_list)}\")\n",
    "\n",
    "documents = [\n",
    "    \"The quick brown fox jumps over the lazy dog.\",\n",
    "    \"The quick red fox leaps over the sleepy dog.\",\n",
    "    \"A fast, clever fox jumps over a lazy hound.\"\n",
    "]\n",
    "\n",
    "inverted_index =create_inverted_index(documents)\n",
    "\n",
    "print_inverted_index(inverted_index)\n",
    "\n"
   ]
  },
  {
   "cell_type": "code",
   "execution_count": null,
   "id": "8918479d-aa3d-4f2c-9694-1b6407279100",
   "metadata": {},
   "outputs": [],
   "source": []
  }
 ],
 "metadata": {
  "kernelspec": {
   "display_name": "Python 3 (ipykernel)",
   "language": "python",
   "name": "python3"
  },
  "language_info": {
   "codemirror_mode": {
    "name": "ipython",
    "version": 3
   },
   "file_extension": ".py",
   "mimetype": "text/x-python",
   "name": "python",
   "nbconvert_exporter": "python",
   "pygments_lexer": "ipython3",
   "version": "3.10.12"
  },
  "widgets": {
   "application/vnd.jupyter.widget-state+json": {
    "state": {},
    "version_major": 2,
    "version_minor": 0
   }
  }
 },
 "nbformat": 4,
 "nbformat_minor": 5
}
